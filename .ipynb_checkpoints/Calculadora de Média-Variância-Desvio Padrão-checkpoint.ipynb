{
 "cells": [
  {
   "cell_type": "code",
   "execution_count": 5,
   "id": "e1884613-172d-4f2d-926d-eb63450305a2",
   "metadata": {},
   "outputs": [],
   "source": [
    "import numpy as np"
   ]
  },
  {
   "cell_type": "code",
   "execution_count": 7,
   "id": "fe34c3a8-bff7-41ba-b636-1a1adf2db5d5",
   "metadata": {},
   "outputs": [],
   "source": [
    "def calculate(numbers):\n",
    "    if len(numbers) != 9:\n",
    "        raise ValueError(\"A lista deve conter nove números\")\n",
    "    \n",
    "    array = np.array(numbers).reshape(3, 3)\n",
    "    \n",
    "    mean_axis1 = np.mean(array, axis=0).tolist()\n",
    "    mean_axis2 = np.mean(array, axis=1).tolist()\n",
    "    mean_flattened = np.mean(array).tolist()\n",
    "    \n",
    "    variance_axis1 = np.var(array, axis=0).tolist()\n",
    "    variance_axis2 = np.var(array, axis=1).tolist()\n",
    "    variance_flattened = np.var(array).tolist()\n",
    "    \n",
    "    std_dev_axis1 = np.std(array, axis=0).tolist()\n",
    "    std_dev_axis2 = np.std(array, axis=1).tolist()\n",
    "    std_dev_flattened = np.std(array).tolist()\n",
    "    \n",
    "    max_axis1 = np.max(array, axis=0).tolist()\n",
    "    max_axis2 = np.max(array, axis=1).tolist()\n",
    "    max_flattened = np.max(array).tolist()\n",
    "    \n",
    "    min_axis1 = np.min(array, axis=0).tolist()\n",
    "    min_axis2 = np.min(array, axis=1).tolist()\n",
    "    min_flattened = np.min(array).tolist()\n",
    "    \n",
    "    sum_axis1 = np.sum(array, axis=0).tolist()\n",
    "    sum_axis2 = np.sum(array, axis=1).tolist()\n",
    "    sum_flattened = np.sum(array).tolist()\n",
    "    \n",
    "    return {\n",
    "        'mean': [mean_axis1, mean_axis2, mean_flattened],\n",
    "        'variance': [variance_axis1, variance_axis2, variance_flattened],\n",
    "        'standard deviation': [std_dev_axis1, std_dev_axis2, std_dev_flattened],\n",
    "        'max': [max_axis1, max_axis2, max_flattened],\n",
    "        'min': [min_axis1, min_axis2, min_flattened],\n",
    "        'sum': [sum_axis1, sum_axis2, sum_flattened]\n",
    "    }"
   ]
  },
  {
   "cell_type": "code",
   "execution_count": 10,
   "id": "85cead2f-75a3-4ffa-9f2f-0cf47c68791c",
   "metadata": {},
   "outputs": [
    {
     "name": "stdout",
     "output_type": "stream",
     "text": [
      "{'mean': [[3.0, 4.0, 5.0], [1.0, 4.0, 7.0], 4.0], 'variance': [[6.0, 6.0, 6.0], [0.6666666666666666, 0.6666666666666666, 0.6666666666666666], 6.666666666666667], 'standard deviation': [[2.449489742783178, 2.449489742783178, 2.449489742783178], [0.816496580927726, 0.816496580927726, 0.816496580927726], 2.581988897471611], 'max': [[6, 7, 8], [2, 5, 8], 8], 'min': [[0, 1, 2], [0, 3, 6], 0], 'sum': [[9, 12, 15], [3, 12, 21], 36]}\n"
     ]
    }
   ],
   "source": [
    "#Digite abaixo em 'numbers'\n",
    "result = calculate([numbers])\n",
    "print(result)"
   ]
  },
  {
   "cell_type": "code",
   "execution_count": null,
   "id": "e0109a20-0a10-4d6e-8ded-602f15be1b21",
   "metadata": {},
   "outputs": [],
   "source": []
  }
 ],
 "metadata": {
  "kernelspec": {
   "display_name": "Python 3 (ipykernel)",
   "language": "python",
   "name": "python3"
  },
  "language_info": {
   "codemirror_mode": {
    "name": "ipython",
    "version": 3
   },
   "file_extension": ".py",
   "mimetype": "text/x-python",
   "name": "python",
   "nbconvert_exporter": "python",
   "pygments_lexer": "ipython3",
   "version": "3.12.0"
  }
 },
 "nbformat": 4,
 "nbformat_minor": 5
}
